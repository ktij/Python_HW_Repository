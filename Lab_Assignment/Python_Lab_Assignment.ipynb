{
 "cells": [
  {
   "cell_type": "markdown",
   "metadata": {},
   "source": [
    "# PyCity Schools Analysis\n",
    "\n",
    "* As a whole, schools with higher budgets, did not yield better test results. By contrast, schools with higher spending per student actually (\\\\$645 - 675) underperformed compared to schools with smaller budgets (\\\\$585 per student).\n",
    "\n",
    "* As a whole, smaller and medium sized schools dramatically out-performed large sized schools on passing math performances (89-91% passing vs 67%).\n",
    "\n",
    "* As a whole, charter schools out-performed the public district schools across all metrics. However, more analysis will be required to glean if the effect is due to school practices or the fact that charter schools tend to serve smaller student populations per school. \n",
    "---"
   ]
  },
  {
   "cell_type": "markdown",
   "metadata": {},
   "source": [
    "**Note:**\n",
    "Instructions have been included for each segment. You do not have to follow them exactly, but they are included to help you think through the steps."
   ]
  },
  {
   "cell_type": "code",
   "execution_count": 5,
   "metadata": {
    "ExecuteTime": {
     "end_time": "2022-08-06T06:08:31.925112Z",
     "start_time": "2022-08-06T06:08:29.337754Z"
    }
   },
   "outputs": [],
   "source": [
    "# Dependencies and Setup\n",
    "import pandas as pd\n",
    "import numpy as np\n",
    "import sqlite3\n",
    "\n",
    "# loading data from python.db database\n",
    "con = sqlite3.connect('data/python.db')\n",
    "\n",
    "# Read 'school' and 'student' tables into pandas dataframe\n",
    "school_data = pd.read_sql_query(\"SELECT * FROM school\", con)\n",
    "student_data = pd.read_sql_query(\"SELECT * FROM student\", con)\n"
   ]
  },
  {
   "cell_type": "code",
   "execution_count": 7,
   "metadata": {},
   "outputs": [
    {
     "data": {
      "text/html": [
       "<div>\n",
       "<style scoped>\n",
       "    .dataframe tbody tr th:only-of-type {\n",
       "        vertical-align: middle;\n",
       "    }\n",
       "\n",
       "    .dataframe tbody tr th {\n",
       "        vertical-align: top;\n",
       "    }\n",
       "\n",
       "    .dataframe thead th {\n",
       "        text-align: right;\n",
       "    }\n",
       "</style>\n",
       "<table border=\"1\" class=\"dataframe\">\n",
       "  <thead>\n",
       "    <tr style=\"text-align: right;\">\n",
       "      <th></th>\n",
       "      <th>id_x</th>\n",
       "      <th>Student ID</th>\n",
       "      <th>student_name</th>\n",
       "      <th>gender</th>\n",
       "      <th>grade</th>\n",
       "      <th>school_name</th>\n",
       "      <th>reading_score</th>\n",
       "      <th>math_score</th>\n",
       "      <th>id_y</th>\n",
       "      <th>School ID</th>\n",
       "      <th>type</th>\n",
       "      <th>size</th>\n",
       "      <th>budget</th>\n",
       "    </tr>\n",
       "  </thead>\n",
       "  <tbody>\n",
       "    <tr>\n",
       "      <th>0</th>\n",
       "      <td>0</td>\n",
       "      <td>0</td>\n",
       "      <td>Paul Bradley</td>\n",
       "      <td>M</td>\n",
       "      <td>9th</td>\n",
       "      <td>Huang High School</td>\n",
       "      <td>66</td>\n",
       "      <td>79</td>\n",
       "      <td>0</td>\n",
       "      <td>0</td>\n",
       "      <td>District</td>\n",
       "      <td>2917</td>\n",
       "      <td>1910635</td>\n",
       "    </tr>\n",
       "    <tr>\n",
       "      <th>1</th>\n",
       "      <td>1</td>\n",
       "      <td>1</td>\n",
       "      <td>Victor Smith</td>\n",
       "      <td>M</td>\n",
       "      <td>12th</td>\n",
       "      <td>Huang High School</td>\n",
       "      <td>94</td>\n",
       "      <td>61</td>\n",
       "      <td>0</td>\n",
       "      <td>0</td>\n",
       "      <td>District</td>\n",
       "      <td>2917</td>\n",
       "      <td>1910635</td>\n",
       "    </tr>\n",
       "    <tr>\n",
       "      <th>2</th>\n",
       "      <td>2</td>\n",
       "      <td>2</td>\n",
       "      <td>Kevin Rodriguez</td>\n",
       "      <td>M</td>\n",
       "      <td>12th</td>\n",
       "      <td>Huang High School</td>\n",
       "      <td>90</td>\n",
       "      <td>60</td>\n",
       "      <td>0</td>\n",
       "      <td>0</td>\n",
       "      <td>District</td>\n",
       "      <td>2917</td>\n",
       "      <td>1910635</td>\n",
       "    </tr>\n",
       "    <tr>\n",
       "      <th>3</th>\n",
       "      <td>3</td>\n",
       "      <td>3</td>\n",
       "      <td>Dr. Richard Scott</td>\n",
       "      <td>M</td>\n",
       "      <td>12th</td>\n",
       "      <td>Huang High School</td>\n",
       "      <td>67</td>\n",
       "      <td>58</td>\n",
       "      <td>0</td>\n",
       "      <td>0</td>\n",
       "      <td>District</td>\n",
       "      <td>2917</td>\n",
       "      <td>1910635</td>\n",
       "    </tr>\n",
       "    <tr>\n",
       "      <th>4</th>\n",
       "      <td>4</td>\n",
       "      <td>4</td>\n",
       "      <td>Bonnie Ray</td>\n",
       "      <td>F</td>\n",
       "      <td>9th</td>\n",
       "      <td>Huang High School</td>\n",
       "      <td>97</td>\n",
       "      <td>84</td>\n",
       "      <td>0</td>\n",
       "      <td>0</td>\n",
       "      <td>District</td>\n",
       "      <td>2917</td>\n",
       "      <td>1910635</td>\n",
       "    </tr>\n",
       "  </tbody>\n",
       "</table>\n",
       "</div>"
      ],
      "text/plain": [
       "   id_x  Student ID       student_name gender grade        school_name  \\\n",
       "0     0           0       Paul Bradley      M   9th  Huang High School   \n",
       "1     1           1       Victor Smith      M  12th  Huang High School   \n",
       "2     2           2    Kevin Rodriguez      M  12th  Huang High School   \n",
       "3     3           3  Dr. Richard Scott      M  12th  Huang High School   \n",
       "4     4           4         Bonnie Ray      F   9th  Huang High School   \n",
       "\n",
       "   reading_score  math_score  id_y  School ID      type  size   budget  \n",
       "0             66          79     0          0  District  2917  1910635  \n",
       "1             94          61     0          0  District  2917  1910635  \n",
       "2             90          60     0          0  District  2917  1910635  \n",
       "3             67          58     0          0  District  2917  1910635  \n",
       "4             97          84     0          0  District  2917  1910635  "
      ]
     },
     "execution_count": 7,
     "metadata": {},
     "output_type": "execute_result"
    }
   ],
   "source": [
    "# Combine the data into a single dataset\n",
    "school_data_complete = pd.merge(student_data, school_data, how=\"left\", on=[\"school_name\", \"school_name\"])\n",
    "school_data_complete.head()"
   ]
  },
  {
   "cell_type": "markdown",
   "metadata": {},
   "source": [
    "## District Summary\n",
    "\n",
    "* Calculate the total number of schools\n",
    "\n",
    "* Calculate the total number of students\n",
    "\n",
    "* Calculate the total budget\n",
    "\n",
    "* Calculate the average math score \n",
    "\n",
    "* Calculate the average reading score\n",
    "\n",
    "* Calculate the overall passing rate (overall average score), i.e. (avg. math score + avg. reading score)/2\n",
    "\n",
    "* Calculate the percentage of students with a passing math score (70 or greater)\n",
    "\n",
    "* Calculate the percentage of students with a passing reading score (70 or greater)\n",
    "\n",
    "* Create a dataframe to hold the above results\n",
    "\n",
    "* Optional: give the displayed data cleaner formatting"
   ]
  },
  {
   "cell_type": "code",
   "execution_count": 43,
   "metadata": {},
   "outputs": [],
   "source": [
    "# Create a District Summary\n",
    "district_summary = pd.DataFrame({\n",
    "    \"Total Schools\": [total_schools],\n",
    "    \"Total Students\": [total_students],\n",
    "    \"Total Budget\": [total_budget],\n",
    "    \"Average Math Score\": [average_math_score],\n",
    "    \"Average Reading Score\": [average_reading_score],\n",
    "    \"Overall Passing Rate (%)\": [overall_passing_rate],\n",
    "    \"Passing Math Percentage (%)\": [passing_math_percentage],\n",
    "    \"Passing Reading Percentage (%)\": [passing_reading_percentage]\n",
    "})"
   ]
  },
  {
   "cell_type": "code",
   "execution_count": 13,
   "metadata": {},
   "outputs": [],
   "source": [
    "# Total number of schools\n",
    "total_schools = school_data_complete['school_name'].nunique()"
   ]
  },
  {
   "cell_type": "code",
   "execution_count": 37,
   "metadata": {},
   "outputs": [],
   "source": [
    "# Total number of students\n",
    "total_students = school_data_complete['Student ID'].nunique()"
   ]
  },
  {
   "cell_type": "code",
   "execution_count": 15,
   "metadata": {},
   "outputs": [],
   "source": [
    "# Total budget\n",
    "total_budget = school_data_complete[['school_name', 'budget']].drop_duplicates()['budget'].sum()"
   ]
  },
  {
   "cell_type": "code",
   "execution_count": 27,
   "metadata": {},
   "outputs": [],
   "source": [
    "# Average math score\n",
    "average_math_score = school_data_complete['math_score'].mean()"
   ]
  },
  {
   "cell_type": "code",
   "execution_count": 19,
   "metadata": {},
   "outputs": [],
   "source": [
    "# Average reading score\n",
    "average_reading_score = school_data_complete['reading_score'].mean()\n"
   ]
  },
  {
   "cell_type": "code",
   "execution_count": 29,
   "metadata": {},
   "outputs": [],
   "source": [
    "# Overall average score\n",
    "overall_passing_rate = (average_math_score + average_reading_score) / 2\n"
   ]
  },
  {
   "cell_type": "code",
   "execution_count": 39,
   "metadata": {},
   "outputs": [],
   "source": [
    "# Percentage of passing math (70 or greater)\n",
    "passing_math = school_data_complete[school_data_complete['math_score'] >= 70]\n",
    "passing_math_percentage = (passing_math['Student ID'].nunique() / total_students) * 100"
   ]
  },
  {
   "cell_type": "code",
   "execution_count": 41,
   "metadata": {},
   "outputs": [],
   "source": [
    "# Percentage of passing READING (70 or greater)\n",
    "passing_reading = school_data_complete[school_data_complete['reading_score'] >= 70]\n",
    "passing_reading_percentage = (passing_reading['Student ID'].nunique() / total_students) * 100\n"
   ]
  },
  {
   "cell_type": "markdown",
   "metadata": {},
   "source": [
    "## School Summary"
   ]
  },
  {
   "cell_type": "markdown",
   "metadata": {},
   "source": [
    "* Create an overview table that summarizes key metrics about each school, including:\n",
    "  * School Name\n",
    "  * School Type\n",
    "  * Total Students\n",
    "  * Total School Budget\n",
    "  * Per Student Budget\n",
    "  * Average Math Score\n",
    "  * Average Reading Score\n",
    "  * % Passing Math\n",
    "  * % Passing Reading\n",
    "  * Overall Passing Rate (Average of the above two)\n",
    "  \n",
    "* Create a dataframe to hold the above results"
   ]
  },
  {
   "cell_type": "markdown",
   "metadata": {},
   "source": [
    "### Top Performing Schools (By Passing Rate)"
   ]
  },
  {
   "cell_type": "markdown",
   "metadata": {},
   "source": [
    "* Sort and display the top five schools in overall passing rate"
   ]
  },
  {
   "cell_type": "code",
   "execution_count": 51,
   "metadata": {},
   "outputs": [
    {
     "name": "stdout",
     "output_type": "stream",
     "text": [
      "                     Total Students  Total School Budget  Average Math Score  \\\n",
      "school_name                                                                    \n",
      "Cabrera High School            1858              1081356           83.061895   \n",
      "Thomas High School             1635              1043130           83.418349   \n",
      "Pena High School                962               585858           83.839917   \n",
      "Griffin High School            1468               917500           83.351499   \n",
      "Wilson High School             2283              1319574           83.274201   \n",
      "\n",
      "                     Average Reading Score  Per Student Budget  \\\n",
      "school_name                                                      \n",
      "Cabrera High School              83.975780               582.0   \n",
      "Thomas High School               83.848930               638.0   \n",
      "Pena High School                 84.044699               609.0   \n",
      "Griffin High School              83.816757               625.0   \n",
      "Wilson High School               83.989488               578.0   \n",
      "\n",
      "                     % Passing Math  % Passing Reading  Overall Passing Rate  \n",
      "school_name                                                                   \n",
      "Cabrera High School       94.133477          97.039828             95.586652  \n",
      "Thomas High School        93.272171          97.308869             95.290520  \n",
      "Pena High School          94.594595          95.945946             95.270270  \n",
      "Griffin High School       93.392371          97.138965             95.265668  \n",
      "Wilson High School        93.867718          96.539641             95.203679  \n"
     ]
    }
   ],
   "source": [
    "\n",
    "# Create an overview table that summarizes key metrics about each school\n",
    "school_summary = school_data_complete.groupby('school_name').agg({\n",
    "    'Student ID': 'count',\n",
    "    'budget': 'first',\n",
    "    'math_score': 'mean',\n",
    "    'reading_score': 'mean'\n",
    "})\n",
    "\n",
    "# Rename the columns for clarity\n",
    "school_summary.rename(columns={\n",
    "    'Student ID': 'Total Students',\n",
    "    'budget': 'Total School Budget',\n",
    "    'math_score': 'Average Math Score',\n",
    "    'reading_score': 'Average Reading Score'\n",
    "}, inplace=True)\n",
    "\n",
    "# Calculate per-student budget\n",
    "school_summary['Per Student Budget'] = school_summary['Total School Budget'] / school_summary['Total Students']\n",
    "\n",
    "# Calculate the percentage of students passing math and reading (>= 70)\n",
    "passing_math = school_data_complete[school_data_complete['math_score'] >= 70].groupby('school_name')['Student ID'].count()\n",
    "passing_reading = school_data_complete[school_data_complete['reading_score'] >= 70].groupby('school_name')['Student ID'].count()\n",
    "\n",
    "school_summary['% Passing Math'] = (passing_math / school_summary['Total Students']) * 100\n",
    "school_summary['% Passing Reading'] = (passing_reading / school_summary['Total Students']) * 100\n",
    "\n",
    "# Calculate overall passing rate\n",
    "school_summary['Overall Passing Rate'] = (school_summary['% Passing Math'] + school_summary['% Passing Reading']) / 2\n",
    "\n",
    "\n",
    "# Sort and display the top five schools in overall passing rate\n",
    "top_schools = school_summary.sort_values(by='Overall Passing Rate', ascending=False).head(5)\n",
    "print(top_schools)"
   ]
  },
  {
   "cell_type": "code",
   "execution_count": 55,
   "metadata": {
    "scrolled": true
   },
   "outputs": [],
   "source": [
    "# Calculate total school budget\n",
    "total_budget_per_school = school_data_complete.groupby('school_name')['budget'].first()\n"
   ]
  },
  {
   "cell_type": "code",
   "execution_count": 61,
   "metadata": {},
   "outputs": [],
   "source": [
    "# Calculate per student budget\n",
    "total_students_per_school = school_data_complete.groupby('school_name')['Student ID'].count()\n",
    "per_student_budget = total_budget_per_school / total_students_per_school"
   ]
  },
  {
   "cell_type": "code",
   "execution_count": 65,
   "metadata": {},
   "outputs": [],
   "source": [
    "# Cacluate the avg math and reading score\n",
    "average_math_score_per_school = school_data_complete.groupby('school_name')['math_score'].mean()\n",
    "average_reading_score_per_school = school_data_complete.groupby('school_name')['reading_score'].mean()"
   ]
  },
  {
   "cell_type": "markdown",
   "metadata": {},
   "source": [
    "#### Find the passing rate for math and reading (above 70 points)"
   ]
  },
  {
   "cell_type": "code",
   "execution_count": 67,
   "metadata": {},
   "outputs": [],
   "source": [
    "# Find the total counts of math result\n",
    "total_math_results_per_school = school_data_complete.groupby('school_name')['math_score'].count()\n",
    "\n",
    "# Find the counts for math result in each school that pass 70 or higher\n",
    "passing_math_per_school = school_data_complete[school_data_complete['math_score'] >= 70].groupby('school_name')['Student ID'].count()\n",
    "\n",
    "# Calculate the math passing rate\n",
    "math_passing_rate_per_school = (passing_math_per_school / total_students_per_school) * 100\n",
    "\n"
   ]
  },
  {
   "cell_type": "code",
   "execution_count": 69,
   "metadata": {},
   "outputs": [],
   "source": [
    "# Find the total counts of read result\n",
    "total_reading_results_per_school = school_data_complete.groupby('school_name')['reading_score'].count()\n",
    "\n",
    "# Find the counts for read result in each school that pass 70 or higher\n",
    "passing_reading_per_school = school_data_complete[school_data_complete['reading_score'] >= 70].groupby('school_name')['Student ID'].count()\n",
    "\n",
    "# Calculate the read passing rate\n",
    "reading_passing_rate_per_school = (passing_reading_per_school / total_students_per_school) * 100\n"
   ]
  },
  {
   "cell_type": "code",
   "execution_count": 71,
   "metadata": {},
   "outputs": [],
   "source": [
    "# Calculate the overall passing rate (average of the math and reading passing rate)\n",
    "overall_passing_rate_per_school = (math_passing_rate_per_school + reading_passing_rate_per_school) / 2\n",
    "\n"
   ]
  },
  {
   "cell_type": "code",
   "execution_count": null,
   "metadata": {},
   "outputs": [],
   "source": []
  },
  {
   "cell_type": "code",
   "execution_count": null,
   "metadata": {},
   "outputs": [],
   "source": []
  },
  {
   "cell_type": "code",
   "execution_count": null,
   "metadata": {},
   "outputs": [],
   "source": []
  },
  {
   "cell_type": "markdown",
   "metadata": {},
   "source": [
    "### Bottom Performing Schools (By Passing Rate)"
   ]
  },
  {
   "cell_type": "markdown",
   "metadata": {},
   "source": [
    "* Sort and display the five worst-performing schools"
   ]
  },
  {
   "cell_type": "code",
   "execution_count": 73,
   "metadata": {},
   "outputs": [],
   "source": [
    "#  Sort and display the worst five schools in overall passing rate\n",
    "\n",
    "bottom_schools = school_summary.sort_values(by='Overall Passing Rate', ascending=True).head(5)\n"
   ]
  },
  {
   "cell_type": "markdown",
   "metadata": {
    "collapsed": true,
    "jupyter": {
     "outputs_hidden": true
    }
   },
   "source": [
    "## Math Scores by Grade"
   ]
  },
  {
   "cell_type": "markdown",
   "metadata": {},
   "source": [
    "* Create a table that lists the average Reading Score for students of each grade level (9th, 10th, 11th, 12th) at each school.\n",
    "\n",
    "  * Create a pandas series for each grade. Hint: use a conditional statement.\n",
    "  \n",
    "  * Group each series by school\n",
    "  \n",
    "  * Combine the series into a dataframe\n",
    "  \n",
    "  * Optional: give the displayed data cleaner formatting"
   ]
  },
  {
   "cell_type": "code",
   "execution_count": 89,
   "metadata": {},
   "outputs": [
    {
     "name": "stdout",
     "output_type": "stream",
     "text": [
      "                       9th Grade  10th Grade  11th Grade  12th Grade\n",
      "school_name                                                         \n",
      "Bailey High School     77.083676   76.996772   77.515588   76.492218\n",
      "Cabrera High School    83.094697   83.154506   82.765560   83.277487\n",
      "Figueroa High School   76.403037   76.539974   76.884344   77.151369\n",
      "Ford High School       77.361345   77.672316   76.918058   76.179963\n",
      "Griffin High School    82.044010   84.229064   83.842105   83.356164\n",
      "Hernandez High School  77.438495   77.337408   77.136029   77.186567\n",
      "Holden High School     83.787402   83.429825   85.000000   82.855422\n",
      "Huang High School      77.027251   75.908735   76.446602   77.225641\n",
      "Johnson High School    77.187857   76.691117   77.491653   76.863248\n",
      "Pena High School       83.625455   83.372000   84.328125   84.121547\n",
      "Rodriguez High School  76.859966   76.612500   76.395626   77.690748\n",
      "Shelton High School    83.420755   82.917411   83.383495   83.778976\n",
      "Thomas High School     83.590022   83.087886   83.498795   83.497041\n",
      "Wilson High School     83.085578   83.724422   83.195326   83.035794\n",
      "Wright High School     83.264706   84.010288   83.836782   83.644986\n"
     ]
    }
   ],
   "source": [
    "# Create table that lists the average math score for each school of each grade level.\n",
    "# Calculate the average math score for 9th grade in each school\n",
    "\n",
    "\n",
    "math_scores_by_grade = pd.DataFrame({\n",
    "    \"9th Grade\": ninth_grade_math_scores,\n",
    "    \"10th Grade\": tenth_grade_math_scores,\n",
    "    \"11th Grade\": eleventh_grade_math_scores,\n",
    "    \"12th Grade\": twelfth_grade_math_scores\n",
    "})\n",
    "\n",
    "print(math_scores_by_grade)"
   ]
  },
  {
   "cell_type": "code",
   "execution_count": 101,
   "metadata": {},
   "outputs": [],
   "source": [
    "# Calculate the average math score for 9th grade in each school\n",
    "ninth_grade_math_scores = school_data_complete[school_data_complete['grade'] == '9th'].groupby('school_name')['math_score'].mean()\n"
   ]
  },
  {
   "cell_type": "code",
   "execution_count": 83,
   "metadata": {},
   "outputs": [],
   "source": [
    "# Calculate the average math score for 10th grade in each school\n",
    "\n",
    "tenth_grade_math_scores = school_data_complete[school_data_complete['grade'] == '10th'].groupby('school_name')['math_score'].mean()\n"
   ]
  },
  {
   "cell_type": "code",
   "execution_count": 85,
   "metadata": {},
   "outputs": [],
   "source": [
    "# Calculate the average math score for 11th grade in each school\n",
    "\n",
    "eleventh_grade_math_scores = school_data_complete[school_data_complete['grade'] == '11th'].groupby('school_name')['math_score'].mean()\n"
   ]
  },
  {
   "cell_type": "code",
   "execution_count": 87,
   "metadata": {},
   "outputs": [],
   "source": [
    "# Calculate the average math score for 12th grade in each school\n",
    "\n",
    "twelfth_grade_math_scores = school_data_complete[school_data_complete['grade'] == '12th'].groupby('school_name')['math_score'].mean()\n"
   ]
  },
  {
   "cell_type": "markdown",
   "metadata": {},
   "source": [
    "### Reading Score by Grade "
   ]
  },
  {
   "cell_type": "markdown",
   "metadata": {},
   "source": [
    "* Perform the same operations as above for reading scores"
   ]
  },
  {
   "cell_type": "code",
   "execution_count": 103,
   "metadata": {},
   "outputs": [
    {
     "name": "stdout",
     "output_type": "stream",
     "text": [
      "                       9th Grade  10th Grade  11th Grade  12th Grade\n",
      "school_name                                                         \n",
      "Bailey High School     81.303155   80.907183   80.945643   80.912451\n",
      "Cabrera High School    83.676136   84.253219   83.788382   84.287958\n",
      "Figueroa High School   81.198598   81.408912   80.640339   81.384863\n",
      "Ford High School       80.632653   81.262712   80.403642   80.662338\n",
      "Griffin High School    83.369193   83.706897   84.288089   84.013699\n",
      "Hernandez High School  80.866860   80.660147   81.396140   80.857143\n",
      "Holden High School     83.677165   83.324561   83.815534   84.698795\n",
      "Huang High School      81.290284   81.512386   81.417476   80.305983\n",
      "Johnson High School    81.260714   80.773431   80.616027   81.227564\n",
      "Pena High School       83.807273   83.612000   84.335938   84.591160\n",
      "Rodriguez High School  80.993127   80.629808   80.864811   80.376426\n",
      "Shelton High School    84.122642   83.441964   84.373786   82.781671\n",
      "Thomas High School     83.728850   84.254157   83.585542   83.831361\n",
      "Wilson High School     83.939778   84.021452   83.764608   84.317673\n",
      "Wright High School     83.833333   83.812757   84.156322   84.073171\n"
     ]
    }
   ],
   "source": [
    "# Create table that lists the average reading score for each school of each grade level.\n",
    "reading_scores_by_grade = pd.DataFrame({\n",
    "    \"9th Grade\": ninth_grade_reading_scores,\n",
    "    \"10th Grade\": tenth_grade_reading_scores,\n",
    "    \"11th Grade\": eleventh_grade_reading_scores,\n",
    "    \"12th Grade\": twelfth_grade_reading_scores\n",
    "})\n",
    "print(reading_scores_by_grade)\n"
   ]
  },
  {
   "cell_type": "code",
   "execution_count": 91,
   "metadata": {},
   "outputs": [],
   "source": [
    "# Calculate the average reading score for 9th grade in each school\n",
    "ninth_grade_reading_scores = school_data_complete[school_data_complete['grade'] == '9th'].groupby('school_name')['reading_score'].mean()\n",
    "\n"
   ]
  },
  {
   "cell_type": "code",
   "execution_count": 93,
   "metadata": {},
   "outputs": [],
   "source": [
    "# Calculate the average reading score for 10th grade in each school\n",
    "tenth_grade_reading_scores = school_data_complete[school_data_complete['grade'] == '10th'].groupby('school_name')['reading_score'].mean()\n",
    "\n"
   ]
  },
  {
   "cell_type": "code",
   "execution_count": 95,
   "metadata": {},
   "outputs": [],
   "source": [
    "# Calculate the average reading score for 11th grade in each school\n",
    "eleventh_grade_reading_scores = school_data_complete[school_data_complete['grade'] == '11th'].groupby('school_name')['reading_score'].mean()\n",
    "\n"
   ]
  },
  {
   "cell_type": "code",
   "execution_count": 97,
   "metadata": {},
   "outputs": [],
   "source": [
    "# Calculate the average reading score for 12th grade in each school\n",
    "twelfth_grade_reading_scores = school_data_complete[school_data_complete['grade'] == '12th'].groupby('school_name')['reading_score'].mean()\n",
    "\n",
    "\n"
   ]
  },
  {
   "cell_type": "markdown",
   "metadata": {},
   "source": [
    "## Scores by School Spending"
   ]
  },
  {
   "cell_type": "markdown",
   "metadata": {},
   "source": [
    "* Create a table that breaks down school performances based on average Spending Ranges (Per Student). Use 4 reasonable bins to group school spending. Include in the table each of the following:\n",
    "  * Average Math Score\n",
    "  * Average Reading Score\n",
    "  * % Passing Math\n",
    "  * % Passing Reading\n",
    "  * Overall Passing Rate (Average of the above two)"
   ]
  },
  {
   "cell_type": "code",
   "execution_count": 105,
   "metadata": {},
   "outputs": [],
   "source": [
    "# Sample bins. Feel free to create your own bins.\n",
    "spending_bins = [0, 585, 615, 645, 675]\n",
    "group_names = [\"<$585\", \"$585-615\", \"$615-645\", \"$645-675\"]"
   ]
  },
  {
   "cell_type": "code",
   "execution_count": 107,
   "metadata": {},
   "outputs": [],
   "source": [
    "# Create a new column to show budget per student in each row\n",
    "school_data_complete['Budget per Student'] = school_data_complete['budget'] / school_data_complete['Student ID'].count()\n"
   ]
  },
  {
   "cell_type": "code",
   "execution_count": 109,
   "metadata": {},
   "outputs": [],
   "source": [
    "# Create a new column to define the spending ranges per student\n",
    "school_data_complete['Spending Range (Per Student)'] = pd.cut(school_data_complete['Budget per Student'], bins=spending_bins, labels=group_names)\n",
    "\n"
   ]
  },
  {
   "cell_type": "code",
   "execution_count": 127,
   "metadata": {},
   "outputs": [],
   "source": [
    "# Calculate the average math score within each spending range\n",
    "\n",
    "avg_math_score_by_spending = school_data_complete.groupby('Spending Range (Per Student)', observed=True)['math_score'].mean()\n",
    "\n"
   ]
  },
  {
   "cell_type": "code",
   "execution_count": 129,
   "metadata": {},
   "outputs": [],
   "source": [
    "# Calculate the percentage passing rate for math in each spending range\n",
    "\n",
    "passing_math = school_data_complete[school_data_complete['math_score'] >= 70]\n",
    "passing_math_by_spending = (passing_math.groupby('Spending Range (Per Student)', observed=True)['Student ID'].count() /\n",
    "                            school_data_complete.groupby('Spending Range (Per Student)', observed=True)['Student ID'].count()) * 100\n",
    "\n"
   ]
  },
  {
   "cell_type": "code",
   "execution_count": 131,
   "metadata": {},
   "outputs": [],
   "source": [
    "# Calculate the percentage passing rate for reading in each spending range\n",
    "passing_reading = school_data_complete[school_data_complete['reading_score'] >= 70]\n",
    "passing_reading_by_spending = (passing_reading.groupby('Spending Range (Per Student)', observed=True)['Student ID'].count() /\n",
    "                               school_data_complete.groupby('Spending Range (Per Student)', observed=True)['Student ID'].count()) * 100\n",
    "\n"
   ]
  },
  {
   "cell_type": "code",
   "execution_count": 135,
   "metadata": {},
   "outputs": [],
   "source": [
    "# Calculate the percentage overall passing rate in each spending range\n",
    "overall_passing_rate_by_spending = (passing_math_by_spending + passing_reading_by_spending) / 2\n",
    "\n"
   ]
  },
  {
   "cell_type": "markdown",
   "metadata": {},
   "source": [
    "### Scores by School Size"
   ]
  },
  {
   "cell_type": "markdown",
   "metadata": {},
   "source": [
    "* Perform the same operations as above, based on school size."
   ]
  },
  {
   "cell_type": "code",
   "execution_count": 137,
   "metadata": {},
   "outputs": [],
   "source": [
    "# Sample bins. Feel free to create your own bins.\n",
    "size_bins = [0, 1000, 2000, 5000]\n",
    "group_names = [\"Small (<1000)\", \"Medium (1000-2000)\", \"Large (2000-5000)\"]"
   ]
  },
  {
   "cell_type": "code",
   "execution_count": 143,
   "metadata": {
    "scrolled": true
   },
   "outputs": [],
   "source": [
    "# Calculate total students per school\n",
    "total_students_per_school = school_data_complete.groupby('school_name')['Student ID'].count()\n",
    "\n",
    "# Add total students to each row based on school\n",
    "school_data_complete = school_data_complete.merge(total_students_per_school.rename(\"Total Students\"), on=\"school_name\")\n",
    "\n",
    "# Create a new column for the bin groups based on school size\n",
    "school_data_complete['School Size'] = pd.cut(school_data_complete['Total Students'], bins=size_bins, labels=group_names)"
   ]
  },
  {
   "cell_type": "markdown",
   "metadata": {},
   "source": [
    "Look for the total count of test scores that pass 70% or higher\n",
    "\n",
    "\n"
   ]
  },
  {
   "cell_type": "code",
   "execution_count": 149,
   "metadata": {},
   "outputs": [],
   "source": [
    "# math_pass_size\n",
    "passing_math = school_data_complete[school_data_complete['math_score'] >= 70]\n",
    "math_pass_size = (passing_math.groupby('School Size', observed=True)['Student ID'].count() /\n",
    "                  school_data_complete.groupby('School Size', observed=True)['Student ID'].count()) * 100\n",
    "\n"
   ]
  },
  {
   "cell_type": "code",
   "execution_count": 151,
   "metadata": {},
   "outputs": [],
   "source": [
    "# read_pass_size\n",
    "passing_reading = school_data_complete[school_data_complete['reading_score'] >= 70]\n",
    "read_pass_size = (passing_reading.groupby('School Size', observed=True)['Student ID'].count() /\n",
    "                  school_data_complete.groupby('School Size', observed=True)['Student ID'].count()) * 100\n",
    "\n"
   ]
  },
  {
   "cell_type": "code",
   "execution_count": 153,
   "metadata": {},
   "outputs": [],
   "source": [
    "# Calculate the overall passing rate for different school size\n",
    "overall_pass_size = (math_pass_size + read_pass_size) / 2\n",
    "\n"
   ]
  },
  {
   "cell_type": "markdown",
   "metadata": {},
   "source": [
    "### Scores by School Type"
   ]
  },
  {
   "cell_type": "markdown",
   "metadata": {},
   "source": [
    "* Perform the same operations as above, based on school type."
   ]
  },
  {
   "cell_type": "code",
   "execution_count": 155,
   "metadata": {},
   "outputs": [],
   "source": [
    "# Create bins and groups, school type {'Charter', 'District'}\n",
    "school_types = school_data_complete.groupby('type')\n",
    "\n"
   ]
  },
  {
   "cell_type": "markdown",
   "metadata": {},
   "source": [
    "Find counts of the passing 70 or higher score for the both test\n"
   ]
  },
  {
   "cell_type": "code",
   "execution_count": 157,
   "metadata": {},
   "outputs": [],
   "source": [
    "\n",
    "# Find the students passing math by school type (score >= 70)\n",
    "passing_math = school_data_complete[school_data_complete['math_score'] >= 70]\n",
    "\n",
    "# Calculate the percentage passing rate for math by school type\n",
    "math_pass_size = (passing_math.groupby('type')['Student ID'].count() /\n",
    "                  school_data_complete.groupby('type')['Student ID'].count()) * 100\n",
    "\n",
    "\n"
   ]
  },
  {
   "cell_type": "code",
   "execution_count": 159,
   "metadata": {},
   "outputs": [],
   "source": [
    "# Find the students passing reading by school type (score >= 70)\n",
    "passing_reading = school_data_complete[school_data_complete['reading_score'] >= 70]\n",
    "\n",
    "# Calculate the percentage passing rate for reading by school type\n",
    "reading_pass_size = (passing_reading.groupby('type')['Student ID'].count() /\n",
    "                     school_data_complete.groupby('type')['Student ID'].count()) * 100"
   ]
  },
  {
   "cell_type": "code",
   "execution_count": 161,
   "metadata": {},
   "outputs": [],
   "source": [
    "# Calculate the overall passing rate\n",
    "overall_pass_rate = (math_pass_size + reading_pass_size) / 2"
   ]
  },
  {
   "cell_type": "code",
   "execution_count": null,
   "metadata": {},
   "outputs": [],
   "source": []
  },
  {
   "cell_type": "code",
   "execution_count": null,
   "metadata": {},
   "outputs": [],
   "source": []
  },
  {
   "cell_type": "code",
   "execution_count": null,
   "metadata": {},
   "outputs": [],
   "source": []
  },
  {
   "cell_type": "code",
   "execution_count": null,
   "metadata": {},
   "outputs": [],
   "source": []
  }
 ],
 "metadata": {
  "anaconda-cloud": {},
  "kernel_info": {
   "name": "python3"
  },
  "kernelspec": {
   "display_name": "Python 3 (ipykernel)",
   "language": "python",
   "name": "python3"
  },
  "language_info": {
   "codemirror_mode": {
    "name": "ipython",
    "version": 3
   },
   "file_extension": ".py",
   "mimetype": "text/x-python",
   "name": "python",
   "nbconvert_exporter": "python",
   "pygments_lexer": "ipython3",
   "version": "3.12.4"
  },
  "latex_envs": {
   "LaTeX_envs_menu_present": true,
   "autoclose": false,
   "autocomplete": true,
   "bibliofile": "biblio.bib",
   "cite_by": "apalike",
   "current_citInitial": 1,
   "eqLabelWithNumbers": true,
   "eqNumInitial": 1,
   "hotkeys": {
    "equation": "Ctrl-E",
    "itemize": "Ctrl-I"
   },
   "labels_anchors": false,
   "latex_user_defs": false,
   "report_style_numbering": false,
   "user_envs_cfg": false
  },
  "nteract": {
   "version": "0.8.4"
  },
  "toc": {
   "base_numbering": 1,
   "nav_menu": {},
   "number_sections": true,
   "sideBar": true,
   "skip_h1_title": false,
   "title_cell": "Table of Contents",
   "title_sidebar": "Contents",
   "toc_cell": false,
   "toc_position": {},
   "toc_section_display": true,
   "toc_window_display": false
  }
 },
 "nbformat": 4,
 "nbformat_minor": 4
}
