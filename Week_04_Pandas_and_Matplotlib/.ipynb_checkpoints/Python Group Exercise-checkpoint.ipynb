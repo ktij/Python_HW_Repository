{
 "cells": [
  {
   "cell_type": "markdown",
   "id": "2793c4cb",
   "metadata": {},
   "source": [
    "# Python Group Exercise\n",
    "\n",
    "## Objectives:\n",
    "1. Solving problem with a team\n",
    "2. Practice using python as the analytic tool\n",
    "3. Evaluate your python knowledge and skills\n",
    "\n",
    "NOTE: This exercise is design to help students practice their python skill as a group.  Students who fail to participate or contribute to this exercise will not be punlished, but it should be a valuable opportunity for students to practice and communicate with their peers. "
   ]
  },
  {
   "cell_type": "code",
   "execution_count": null,
   "id": "c3643cee",
   "metadata": {
    "ExecuteTime": {
     "end_time": "2023-09-18T16:03:58.562393Z",
     "start_time": "2023-09-18T16:03:56.381640Z"
    }
   },
   "outputs": [],
   "source": [
    "import pandas as pd\n",
    "import numpy as np\n",
    "import sqlite3"
   ]
  },
  {
   "cell_type": "code",
   "execution_count": null,
   "id": "e4525397",
   "metadata": {
    "ExecuteTime": {
     "end_time": "2023-09-18T16:05:26.793143Z",
     "start_time": "2023-09-18T16:05:26.667414Z"
    }
   },
   "outputs": [],
   "source": [
    "# import data from db file\n",
    "con = sqlite3.connect('data/python.db')\n",
    "ff_df = pd.read_sql(\"\"\"\n",
    "    SELECT *\n",
    "    FROM fastfood\n",
    "\"\"\", con)\n",
    "\n",
    "ff_df.head()"
   ]
  },
  {
   "cell_type": "markdown",
   "id": "2dcbd209",
   "metadata": {},
   "source": [
    "### Questions about the Fast Food dataset:\n",
    "\n",
    "1. Report the number of fast food restaurants in each province and city in one table. \n",
    "\n",
    "2. Report the **top 5 province** with most fast food restaurants, **name of the most popular** fast food chain, and the **count of the fast food chain in each state** in one table\n",
    "\n",
    "3. Report which year has the most fast food restaurant added to California. Demonstrate in a table with count of added restaurant in each year in California."
   ]
  },
  {
   "cell_type": "code",
   "execution_count": null,
   "id": "539b74cd",
   "metadata": {
    "ExecuteTime": {
     "end_time": "2023-09-18T16:15:48.626803Z",
     "start_time": "2023-09-18T16:15:48.613653Z"
    }
   },
   "outputs": [],
   "source": [
    "# Question 1\n",
    "\n"
   ]
  },
  {
   "cell_type": "code",
   "execution_count": null,
   "id": "a0871aed",
   "metadata": {
    "ExecuteTime": {
     "end_time": "2023-09-18T16:15:57.090700Z",
     "start_time": "2023-09-18T16:15:57.075252Z"
    }
   },
   "outputs": [],
   "source": [
    "# Question 2\n",
    "\n"
   ]
  },
  {
   "cell_type": "code",
   "execution_count": null,
   "id": "15fda6b8",
   "metadata": {
    "ExecuteTime": {
     "end_time": "2023-09-18T16:16:01.883087Z",
     "start_time": "2023-09-18T16:16:01.876330Z"
    }
   },
   "outputs": [],
   "source": [
    "# Question 3\n",
    "\n"
   ]
  },
  {
   "cell_type": "markdown",
   "id": "294f9b75",
   "metadata": {},
   "source": [
    "### Questions about the Classic Rock Song dataset\n",
    "\n",
    "1. Clean the dataset so it can be used for analytic\n",
    "\n",
    "**Steps:**\n",
    "- Update names of the columns\n",
    "- Check for any column with non-sense data type\n",
    "- Check for any non-sense value in the column\n",
    "- Replace the non-sense value with null\n",
    "- Change the data type of the column to the correct type\n",
    "\n",
    "2. Impute all missing \"Release Year\"\n",
    "\n",
    "**Steps:**\n",
    "- Think about what could be a reasonable value to fill the Release Year\n",
    "- Estimate the 'Release Year' based on your business logic\n",
    "- Fill the missing 'Release Year' with your estimation\n",
    "- Evluate the final output table to see if it makes sense"
   ]
  },
  {
   "cell_type": "code",
   "execution_count": null,
   "id": "b723b9af",
   "metadata": {
    "ExecuteTime": {
     "end_time": "2023-09-18T16:48:38.567429Z",
     "start_time": "2023-09-18T16:48:38.534098Z"
    }
   },
   "outputs": [],
   "source": [
    "rs = pd.read_csv('data/classic-rock-song-list.csv')\n",
    "rs.head(5)"
   ]
  },
  {
   "cell_type": "code",
   "execution_count": null,
   "id": "e0581718",
   "metadata": {
    "ExecuteTime": {
     "end_time": "2023-09-18T17:00:43.807384Z",
     "start_time": "2023-09-18T17:00:43.777089Z"
    }
   },
   "outputs": [],
   "source": [
    "columns = {\"Song Clean\":\"Song\",\n",
    "           \"ARTIST CLEAN\":\"Artist\",\n",
    "           \"Release Year\":\"ReleaseYear\",\n",
    "           \"COMBINED\":\"Combined\",\n",
    "           \"First?\":\"First\",\n",
    "           \"Year?\":\"Year\",\n",
    "           \"F*G\":\"FG\"}\n",
    "rs = rs.rename(columns, axis=1)\n",
    "rs.info()"
   ]
  },
  {
   "cell_type": "code",
   "execution_count": null,
   "id": "be83bf79",
   "metadata": {
    "ExecuteTime": {
     "end_time": "2023-09-18T17:01:12.720926Z",
     "start_time": "2023-09-18T17:01:12.714417Z"
    }
   },
   "outputs": [],
   "source": [
    "rs['ReleaseYear'].unique()"
   ]
  },
  {
   "cell_type": "code",
   "execution_count": null,
   "id": "31663957",
   "metadata": {
    "ExecuteTime": {
     "end_time": "2023-09-18T17:01:16.021815Z",
     "start_time": "2023-09-18T17:01:16.002405Z"
    }
   },
   "outputs": [],
   "source": [
    "rs_clean = rs.copy()\n",
    "rs_clean['ReleaseYear'] = rs_clean['ReleaseYear'].replace('SONGFACTS.COM', np.nan)\n",
    "rs_clean['ReleaseYear'] = rs_clean['ReleaseYear'].astype(str).astype(float).astype('Int64')\n",
    "rs_clean.info()"
   ]
  },
  {
   "cell_type": "code",
   "execution_count": null,
   "id": "41bbf9b8",
   "metadata": {
    "ExecuteTime": {
     "end_time": "2023-09-18T17:03:48.812042Z",
     "start_time": "2023-09-18T17:03:48.777631Z"
    }
   },
   "outputs": [],
   "source": [
    "rs_clean.groupby('Artist').agg(\n",
    "    obs_count = pd.NamedAgg('ReleaseYear', aggfunc='count'),\n",
    "    release_avg = pd.NamedAgg('ReleaseYear', aggfunc='mean')\n",
    ")"
   ]
  },
  {
   "cell_type": "code",
   "execution_count": null,
   "id": "e6ce5ada",
   "metadata": {
    "ExecuteTime": {
     "end_time": "2023-09-18T17:04:13.353432Z",
     "start_time": "2023-09-18T17:04:13.329418Z"
    }
   },
   "outputs": [],
   "source": [
    "rs_est = rs_clean.groupby(['Artist'])['ReleaseYear'].mean().astype('Int64').reset_index()\n",
    "rs_est = rs_est.rename({'ReleaseYear':'Est. Year'}, axis=1)\n",
    "rs_est"
   ]
  },
  {
   "cell_type": "code",
   "execution_count": null,
   "id": "1c518d70",
   "metadata": {
    "ExecuteTime": {
     "end_time": "2023-09-18T17:04:52.455197Z",
     "start_time": "2023-09-18T17:04:52.421431Z"
    }
   },
   "outputs": [],
   "source": [
    "rs_join = rs_clean.merge(rs_est, how='left',\n",
    "              left_on='Artist',\n",
    "              right_on='Artist')\n",
    "rs_join.head()"
   ]
  },
  {
   "cell_type": "code",
   "execution_count": null,
   "id": "8ad8bbe2",
   "metadata": {
    "ExecuteTime": {
     "end_time": "2023-09-18T17:07:06.883316Z",
     "start_time": "2023-09-18T17:07:06.868005Z"
    }
   },
   "outputs": [],
   "source": [
    "rs_join.loc[(rs_join[\"ReleaseYear\"].isna()), \"ReleaseYear\"] = rs_join[\"Est. Year\"]"
   ]
  },
  {
   "cell_type": "code",
   "execution_count": null,
   "id": "0bfc1d3a",
   "metadata": {
    "ExecuteTime": {
     "end_time": "2023-09-18T17:07:17.989790Z",
     "start_time": "2023-09-18T17:07:17.968299Z"
    }
   },
   "outputs": [],
   "source": [
    "rs_join.head()"
   ]
  },
  {
   "cell_type": "code",
   "execution_count": null,
   "id": "11db8bff",
   "metadata": {},
   "outputs": [],
   "source": []
  }
 ],
 "metadata": {
  "kernelspec": {
   "display_name": "Python 3 (ipykernel)",
   "language": "python",
   "name": "python3"
  },
  "language_info": {
   "codemirror_mode": {
    "name": "ipython",
    "version": 3
   },
   "file_extension": ".py",
   "mimetype": "text/x-python",
   "name": "python",
   "nbconvert_exporter": "python",
   "pygments_lexer": "ipython3",
   "version": "3.8.18"
  },
  "latex_envs": {
   "LaTeX_envs_menu_present": true,
   "autoclose": false,
   "autocomplete": true,
   "bibliofile": "biblio.bib",
   "cite_by": "apalike",
   "current_citInitial": 1,
   "eqLabelWithNumbers": true,
   "eqNumInitial": 1,
   "hotkeys": {
    "equation": "Ctrl-E",
    "itemize": "Ctrl-I"
   },
   "labels_anchors": false,
   "latex_user_defs": false,
   "report_style_numbering": false,
   "user_envs_cfg": false
  },
  "toc": {
   "base_numbering": 1,
   "nav_menu": {},
   "number_sections": true,
   "sideBar": true,
   "skip_h1_title": false,
   "title_cell": "Table of Contents",
   "title_sidebar": "Contents",
   "toc_cell": false,
   "toc_position": {},
   "toc_section_display": true,
   "toc_window_display": false
  }
 },
 "nbformat": 4,
 "nbformat_minor": 5
}
